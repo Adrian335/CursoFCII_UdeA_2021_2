{
 "cells": [
  {
   "cell_type": "code",
   "execution_count": 1,
   "id": "58f6ebc7",
   "metadata": {},
   "outputs": [
    {
     "name": "stdout",
     "output_type": "stream",
     "text": [
      "Welcome to JupyROOT 6.24/06\n"
     ]
    }
   ],
   "source": [
    "from ROOT import TCanvas, TH3F\n",
    "from pandas import DataFrame, read_csv\n",
    "import numpy as np"
   ]
  },
  {
   "cell_type": "code",
   "execution_count": 2,
   "id": "214fcd30",
   "metadata": {},
   "outputs": [
    {
     "name": "stdout",
     "output_type": "stream",
     "text": [
      "DataFrame created with size (3001, 3)\n"
     ]
    },
    {
     "data": {
      "text/html": [
       "<div>\n",
       "<style scoped>\n",
       "    .dataframe tbody tr th:only-of-type {\n",
       "        vertical-align: middle;\n",
       "    }\n",
       "\n",
       "    .dataframe tbody tr th {\n",
       "        vertical-align: top;\n",
       "    }\n",
       "\n",
       "    .dataframe thead th {\n",
       "        text-align: right;\n",
       "    }\n",
       "</style>\n",
       "<table border=\"1\" class=\"dataframe\">\n",
       "  <thead>\n",
       "    <tr style=\"text-align: right;\">\n",
       "      <th></th>\n",
       "      <th>x</th>\n",
       "      <th>y</th>\n",
       "      <th>z</th>\n",
       "    </tr>\n",
       "  </thead>\n",
       "  <tbody>\n",
       "    <tr>\n",
       "      <th>0</th>\n",
       "      <td>-0.00</td>\n",
       "      <td>3.00</td>\n",
       "      <td>1.50</td>\n",
       "    </tr>\n",
       "    <tr>\n",
       "      <th>1</th>\n",
       "      <td>-0.05</td>\n",
       "      <td>3.00</td>\n",
       "      <td>1.62</td>\n",
       "    </tr>\n",
       "    <tr>\n",
       "      <th>2</th>\n",
       "      <td>-0.11</td>\n",
       "      <td>3.00</td>\n",
       "      <td>1.74</td>\n",
       "    </tr>\n",
       "    <tr>\n",
       "      <th>3</th>\n",
       "      <td>-0.16</td>\n",
       "      <td>3.00</td>\n",
       "      <td>1.86</td>\n",
       "    </tr>\n",
       "    <tr>\n",
       "      <th>4</th>\n",
       "      <td>-0.22</td>\n",
       "      <td>2.99</td>\n",
       "      <td>1.98</td>\n",
       "    </tr>\n",
       "    <tr>\n",
       "      <th>...</th>\n",
       "      <td>...</td>\n",
       "      <td>...</td>\n",
       "      <td>...</td>\n",
       "    </tr>\n",
       "    <tr>\n",
       "      <th>2996</th>\n",
       "      <td>1.49</td>\n",
       "      <td>-2.60</td>\n",
       "      <td>361.01</td>\n",
       "    </tr>\n",
       "    <tr>\n",
       "      <th>2997</th>\n",
       "      <td>1.54</td>\n",
       "      <td>-2.58</td>\n",
       "      <td>361.13</td>\n",
       "    </tr>\n",
       "    <tr>\n",
       "      <th>2998</th>\n",
       "      <td>1.58</td>\n",
       "      <td>-2.55</td>\n",
       "      <td>361.25</td>\n",
       "    </tr>\n",
       "    <tr>\n",
       "      <th>2999</th>\n",
       "      <td>1.63</td>\n",
       "      <td>-2.52</td>\n",
       "      <td>361.37</td>\n",
       "    </tr>\n",
       "    <tr>\n",
       "      <th>3000</th>\n",
       "      <td>1.67</td>\n",
       "      <td>-2.49</td>\n",
       "      <td>361.49</td>\n",
       "    </tr>\n",
       "  </tbody>\n",
       "</table>\n",
       "<p>3001 rows × 3 columns</p>\n",
       "</div>"
      ],
      "text/plain": [
       "         x     y       z\n",
       "0    -0.00  3.00    1.50\n",
       "1    -0.05  3.00    1.62\n",
       "2    -0.11  3.00    1.74\n",
       "3    -0.16  3.00    1.86\n",
       "4    -0.22  2.99    1.98\n",
       "...    ...   ...     ...\n",
       "2996  1.49 -2.60  361.01\n",
       "2997  1.54 -2.58  361.13\n",
       "2998  1.58 -2.55  361.25\n",
       "2999  1.63 -2.52  361.37\n",
       "3000  1.67 -2.49  361.49\n",
       "\n",
       "[3001 rows x 3 columns]"
      ]
     },
     "execution_count": 2,
     "metadata": {},
     "output_type": "execute_result"
    }
   ],
   "source": [
    "\n",
    "df = read_csv('data1.txt', sep = '\\s+', header=None, names = ['x', 'y', 'z'])\n",
    "print('DataFrame created with size {}'.format(df.shape))\n",
    "df\n"
   ]
  },
  {
   "cell_type": "code",
   "execution_count": 3,
   "id": "fbbfb403",
   "metadata": {},
   "outputs": [],
   "source": [
    "#setting (x y z) arrays for plotting\n",
    "X_data = df[df.columns[0]]\n",
    "Y_data = df[df.columns[1]] \n",
    "Z_data = df[df.columns[2]]\n",
    "\n",
    "n = len(X_data)\n",
    "min_val = min(X_data)\n",
    "max_val = max(X_data)\n",
    "min_z = min(Z_data)\n",
    "max_z = max(Z_data)\n"
   ]
  },
  {
   "cell_type": "code",
   "execution_count": null,
   "id": "a93f9698",
   "metadata": {},
   "outputs": [],
   "source": [
    "h123 = TH3F(\"Graph\",\"Motion of a Charged Particle\",\n",
    "            100,-4,4,100, -4, 4,100,0,400)\n",
    "\n",
    "for i in range (n):\n",
    "    h123.Fill(X_data[i], Y_data[i], Z_data[i])\n",
    "    \n",
    "h123.SetMarkerColor(36)\n",
    "h123.SetMarkerSize(0.5)\n",
    "h123.SetMarkerStyle(4)\n",
    "\n",
    "c4 = TCanvas( 'c4', 'Ejemplo', 200, 10, 600, 400 )\n",
    "h123.Draw()\n",
    "c4.Draw()"
   ]
  },
  {
   "cell_type": "code",
   "execution_count": null,
   "id": "cc259d49",
   "metadata": {},
   "outputs": [],
   "source": []
  }
 ],
 "metadata": {
  "kernelspec": {
   "display_name": "Python 3 (ipykernel)",
   "language": "python",
   "name": "python3"
  },
  "language_info": {
   "codemirror_mode": {
    "name": "ipython",
    "version": 3
   },
   "file_extension": ".py",
   "mimetype": "text/x-python",
   "name": "python",
   "nbconvert_exporter": "python",
   "pygments_lexer": "ipython3",
   "version": "3.8.10"
  }
 },
 "nbformat": 4,
 "nbformat_minor": 5
}
