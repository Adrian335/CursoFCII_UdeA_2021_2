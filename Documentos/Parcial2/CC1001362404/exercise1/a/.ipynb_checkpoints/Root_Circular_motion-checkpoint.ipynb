{
 "cells": [
  {
   "cell_type": "code",
   "execution_count": 8,
   "id": "f42e3656",
   "metadata": {},
   "outputs": [
    {
     "data": {
      "image/png": "[encoded data removed]",
      "text/plain": [
       "<IPython.core.display.Image object>"
      ]
     },
     "metadata": {},
     "output_type": "display_data"
    },
    {
     "name": "stderr",
     "output_type": "stream",
     "text": [
      "Warning in <TCanvas::Constructor>: Deleting canvas with same name: c\n",
      "Warning in <TROOT::Append>: Replacing existing TGraph2D: Graph2D (Potential memory leak).\n",
      "Error in <TGraph2D::Paint>: Empty TGraph2D\n"
     ]
    }
   ],
   "source": [
    "{\n",
    "    TCanvas *c = new TCanvas(\"c\",\"Graph2D\",0,0,600,400);\n",
    "\n",
    "    TGraph2D *dt = new TGraph2D(\"datos.txt\");\n",
    "    dt->SetTitle(\"Motion of a Charged Particle; X ; Y; Z \");\n",
    "    \n",
    "    dt->SetMarkerColor(36);\n",
    "    dt->SetMarkerSize(0.5);\n",
    "    dt->SetMarkerStyle(4);\n",
    "\n",
    "    dt->Draw();\n",
    "    c->Draw();\n",
    "    return c;\n",
    "}\n"
   ]
  },
  {
   "cell_type": "code",
   "execution_count": null,
   "id": "5df8a2a1",
   "metadata": {},
   "outputs": [],
   "source": []
  }
 ],
 "metadata": {
  "kernelspec": {
   "display_name": "ROOT C++",
   "language": "c++",
   "name": "root"
  },
  "language_info": {
   "codemirror_mode": "text/x-c++src",
   "file_extension": ".C",
   "mimetype": " text/x-c++src",
   "name": "c++"
  }
 },
 "nbformat": 4,
 "nbformat_minor": 5
}
